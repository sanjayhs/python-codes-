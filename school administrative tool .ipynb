{
 "cells": [
  {
   "cell_type": "code",
   "execution_count": 4,
   "metadata": {},
   "outputs": [
    {
     "name": "stdout",
     "output_type": "stream",
     "text": [
      "enter the student information for student#1 in the following format (Name Age Contact_Number E-mail_id) sanjay 19 80883935358 hssanjay2001@gmail.com \n",
      "entered student_information sanjay 19 80883935358 hssanjay2001@gmail.com \n",
      "entered split up information is ['sanjay', '19', '80883935358', 'hssanjay2001@gmail.com', '']\n",
      "\n",
      " The entered information is -\n",
      " Name: sanjay\n",
      "Age: 19\n",
      "Contact_number: 80883935358\n",
      "Email_id: hssanjay2001@gmail.com\n",
      "\n",
      "Is the entered information is (yes/no)yes\n",
      "enter (yes/no) if you want to enter another student information yes\n",
      "enter the student information for student#2 in the following format (Name Age Contact_Number E-mail_id) suhas 19 9972813709 suhaskn@gmail.com\n",
      "entered student_information suhas 19 9972813709 suhaskn@gmail.com\n",
      "entered split up information is ['suhas', '19', '9972813709', 'suhaskn@gmail.com']\n",
      "\n",
      " The entered information is -\n",
      " Name: suhas\n",
      "Age: 19\n",
      "Contact_number: 9972813709\n",
      "Email_id: suhaskn@gmail.com\n",
      "\n",
      "Is the entered information is (yes/no)yes\n",
      "enter (yes/no) if you want to enter another student information yes\n",
      "enter the student information for student#3 in the following format (Name Age Contact_Number E-mail_id) kishore 19 8310393298 kishorekishore@gmail.com\n",
      "entered student_information kishore 19 8310393298 kishorekishore@gmail.com\n",
      "entered split up information is ['kishore', '19', '8310393298', 'kishorekishore@gmail.com']\n",
      "\n",
      " The entered information is -\n",
      " Name: kishore\n",
      "Age: 19\n",
      "Contact_number: 8310393298\n",
      "Email_id: kishorekishore@gmail.com\n",
      "\n",
      "Is the entered information is (yes/no)yes\n",
      "enter (yes/no) if you want to enter another student information yes\n",
      "enter the student information for student#4 in the following format (Name Age Contact_Number E-mail_id) bhuvan 19 755395689 bhuvandb36@gmail.com\n",
      "entered student_information bhuvan 19 755395689 bhuvandb36@gmail.com\n",
      "entered split up information is ['bhuvan', '19', '755395689', 'bhuvandb36@gmail.com']\n",
      "\n",
      " The entered information is -\n",
      " Name: bhuvan\n",
      "Age: 19\n",
      "Contact_number: 755395689\n",
      "Email_id: bhuvandb36@gmail.com\n",
      "\n",
      "Is the entered information is (yes/no)yes\n",
      "enter (yes/no) if you want to enter another student information no\n"
     ]
    }
   ],
   "source": [
    "# project for school adminisrtation tool\n",
    "import csv\n",
    "def write_info_csv(info_list):\n",
    "    with open('student_info.csv', 'a', newline=\"\")as csv_file:\n",
    "        writer = csv.writer(csv_file)\n",
    "        if csv_file.tell()==0:\n",
    "            writer.writerow([\"Name  \", \"Age \", \"Contact_number  \", \"email-id\"])\n",
    "        writer.writerow(info_list)\n",
    "\n",
    "if __name__=='__main__':\n",
    "    condition = True\n",
    "    student_num=1\n",
    "while (condition):\n",
    "    student_info = input(\"enter the student information for student#{} in the following format (Name Age Contact_Number E-mail_id) \"\n",
    "                        .format(student_num))\n",
    "    print(\"entered student_information \" + student_info)\n",
    "    # spliting\n",
    "    student_info_list = student_info.split(' ')\n",
    "    print(\"entered split up information is \" + str(student_info_list))\n",
    "    print(\"\\n The entered information is -\\n Name: {}\\nAge: {}\\nContact_number: {}\\nEmail_id: {}\\n\"\n",
    "             .format(student_info_list[0],student_info_list[1],student_info_list[2],student_info_list[3]))\n",
    "\n",
    "    choice_check= input(\"Is the entered information is (yes/no)\")\n",
    "    if choice_check==\"yes\":\n",
    "        write_info_csv(student_info_list)\n",
    "        condition_check = input(\"enter (yes/no) if you want to enter another student information \")\n",
    "        if condition_check == \"yes\":\n",
    "            condition = True\n",
    "            student_num=student_num+1\n",
    "        elif condition_check == \"no\":\n",
    "            condition = False\n",
    "\n",
    "    elif choice_check==\"no\":\n",
    "        print(\"please re-enter the information !!!\")"
   ]
  },
  {
   "cell_type": "code",
   "execution_count": null,
   "metadata": {},
   "outputs": [],
   "source": []
  }
 ],
 "metadata": {
  "kernelspec": {
   "display_name": "Python 3",
   "language": "python",
   "name": "python3"
  },
  "language_info": {
   "codemirror_mode": {
    "name": "ipython",
    "version": 3
   },
   "file_extension": ".py",
   "mimetype": "text/x-python",
   "name": "python",
   "nbconvert_exporter": "python",
   "pygments_lexer": "ipython3",
   "version": "3.7.6"
  }
 },
 "nbformat": 4,
 "nbformat_minor": 4
}
