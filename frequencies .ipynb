{
 "cells": [
  {
   "cell_type": "code",
   "execution_count": 7,
   "metadata": {},
   "outputs": [
    {
     "name": "stdout",
     "output_type": "stream",
     "text": [
      "enter the stringmississippi\n",
      "Per char frequency in 'mississippi' is :\n",
      " {'m': 1, 'i': 4, 's': 4, 'p': 2}\n"
     ]
    }
   ],
   "source": [
    "\n",
    " \n",
    "input_string = input(\"enter the string\")\n",
    "frequencies = {} \n",
    "  \n",
    "for char in input_string: \n",
    "    if char in frequencies: \n",
    "      frequencies[char] += 1\n",
    "    else: \n",
    "      frequencies[char] = 1\n",
    "\n",
    "# Show Output\n",
    "print (\"Per char frequency in '{}' is :\\n {}\".format(input_string, str(frequencies)))"
   ]
  },
  {
   "cell_type": "code",
   "execution_count": null,
   "metadata": {},
   "outputs": [],
   "source": []
  }
 ],
 "metadata": {
  "kernelspec": {
   "display_name": "Python 3",
   "language": "python",
   "name": "python3"
  },
  "language_info": {
   "codemirror_mode": {
    "name": "ipython",
    "version": 3
   },
   "file_extension": ".py",
   "mimetype": "text/x-python",
   "name": "python",
   "nbconvert_exporter": "python",
   "pygments_lexer": "ipython3",
   "version": "3.7.6"
  }
 },
 "nbformat": 4,
 "nbformat_minor": 4
}
